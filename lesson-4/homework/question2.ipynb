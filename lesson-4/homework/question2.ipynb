{
 "cells": [
  {
   "cell_type": "markdown",
   "metadata": {},
   "source": [
    "#### continue va break orasidagi farq"
   ]
  },
  {
   "cell_type": "markdown",
   "metadata": {},
   "source": [
    "continue - hozirgi iteratsiyani to'xtatib, keyingisiga o'tadi.\n",
    "\n",
    "break - tsiklni butunlay to,xtatadi."
   ]
  },
  {
   "cell_type": "markdown",
   "metadata": {},
   "source": []
  }
 ],
 "metadata": {
  "language_info": {
   "name": "python"
  }
 },
 "nbformat": 4,
 "nbformat_minor": 2
}
