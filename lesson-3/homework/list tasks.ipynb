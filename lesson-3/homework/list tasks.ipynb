{
 "cells": [
  {
   "cell_type": "markdown",
   "metadata": {},
   "source": [
    "## List Tasks"
   ]
  },
  {
   "cell_type": "code",
   "execution_count": 1,
   "metadata": {},
   "outputs": [
    {
     "data": {
      "text/plain": [
       "2"
      ]
     },
     "execution_count": 1,
     "metadata": {},
     "output_type": "execute_result"
    }
   ],
   "source": [
    "subjects = ['math', 'english', 'astronomy' 'russian', 'math']\n",
    "\n",
    "subjects.count('math')"
   ]
  },
  {
   "cell_type": "code",
   "execution_count": 3,
   "metadata": {},
   "outputs": [
    {
     "name": "stdout",
     "output_type": "stream",
     "text": [
      "Total: 210\n"
     ]
    }
   ],
   "source": [
    "numbers = [2, 3, 6, 78, 98, 23,]\n",
    "\n",
    "total = sum(numbers)\n",
    "print(\"Total:\", total)\n"
   ]
  },
  {
   "cell_type": "code",
   "execution_count": 4,
   "metadata": {},
   "outputs": [
    {
     "name": "stdout",
     "output_type": "stream",
     "text": [
      "Largest element: 89\n"
     ]
    }
   ],
   "source": [
    "numbers = [34, 45, 67, 89,32,51,]\n",
    "max_element = max(numbers)\n",
    "print(\"Largest element:\", max_element)\n"
   ]
  },
  {
   "cell_type": "code",
   "execution_count": 5,
   "metadata": {},
   "outputs": [
    {
     "name": "stdout",
     "output_type": "stream",
     "text": [
      "34\n"
     ]
    }
   ],
   "source": [
    "numbers = [34, 42, 76, 46,]\n",
    "min_element = min(numbers)\n",
    "print(min_element)"
   ]
  },
  {
   "cell_type": "code",
   "execution_count": 6,
   "metadata": {},
   "outputs": [
    {
     "name": "stdout",
     "output_type": "stream",
     "text": [
      "pear is not present in the list.\n"
     ]
    }
   ],
   "source": [
    "fruits = ['apple', 'ananas', 'peach', 'pear',]\n",
    "\n",
    "element = 'pear'\n",
    "\n",
    "if element in numbers:\n",
    "    print(f\"{element} is present in the list.\")\n",
    "else:\n",
    "    print(f\"{element} is not present in the list.\")\n"
   ]
  },
  {
   "cell_type": "code",
   "execution_count": 10,
   "metadata": {},
   "outputs": [
    {
     "name": "stdout",
     "output_type": "stream",
     "text": [
      "First element: samsung\n"
     ]
    }
   ],
   "source": [
    "phones = ['samsung', 'Iphone' 'infinix', 'poco']\n",
    "\n",
    "if phones:\n",
    "    first_element =phones[0]\n",
    "    print(\"First element:\", first_element)\n",
    "else:\n",
    "    print(\"The list is empty.\")\n"
   ]
  },
  {
   "cell_type": "code",
   "execution_count": 14,
   "metadata": {},
   "outputs": [
    {
     "name": "stdout",
     "output_type": "stream",
     "text": [
      "Last element: poco\n"
     ]
    }
   ],
   "source": [
    "phones = ['samsung', 'Iphone', 'infinix', 'poco']\n",
    "\n",
    "if phones:\n",
    "    last_element = phones[3]\n",
    "    print(\"Last element:\", last_element)\n",
    "else:\n",
    "    print(\"The list is empty.\")\n"
   ]
  },
  {
   "cell_type": "code",
   "execution_count": 15,
   "metadata": {},
   "outputs": [
    {
     "name": "stdout",
     "output_type": "stream",
     "text": [
      "[23, 43, 56]\n"
     ]
    }
   ],
   "source": [
    "numbers = [23,43,56,87,9,87,5667,34,6,]\n",
    "first_three = numbers[:3]\n",
    "print(first_three)\n"
   ]
  },
  {
   "cell_type": "code",
   "execution_count": 17,
   "metadata": {},
   "outputs": [
    {
     "name": "stdout",
     "output_type": "stream",
     "text": [
      "[6, 34, 5667, 87, 9, 87, 56, 43, 23]\n"
     ]
    }
   ],
   "source": [
    "numbers = [23,43,56,87,9,87,5667,34,6,]\n",
    "new_list = numbers[::-1]\n",
    "print(new_list)\n"
   ]
  },
  {
   "cell_type": "code",
   "execution_count": 20,
   "metadata": {},
   "outputs": [
    {
     "name": "stdout",
     "output_type": "stream",
     "text": [
      "[6, 9, 23, 34, 43, 56, 87, 87, 5667]\n"
     ]
    }
   ],
   "source": [
    "numbers = [23,43,56,87,9,87,5667,34,6,]\n",
    "sorted_list = sorted(numbers)\n",
    "print(sorted_list)"
   ]
  },
  {
   "cell_type": "code",
   "execution_count": 28,
   "metadata": {},
   "outputs": [
    {
     "name": "stdout",
     "output_type": "stream",
     "text": [
      "UNique Elements:  [23, 43, 56, 87, 9, 6, 5667, 34]\n"
     ]
    }
   ],
   "source": [
    "numbers = [23,43,56,87,9,87,6,23,5667,34,6,]\n",
    "unique_elements = list(dict.fromkeys(numbers))\n",
    "print(\"UNique Elements: \", unique_elements)"
   ]
  },
  {
   "cell_type": "code",
   "execution_count": 31,
   "metadata": {},
   "outputs": [
    {
     "name": "stdout",
     "output_type": "stream",
     "text": [
      "Updated list:  ['Nissan', 'Mercedes', 'Porsche', 'BMW', 'Toyota']\n"
     ]
    }
   ],
   "source": [
    "cars = ['Mercedes', 'Porsche', 'BMW', 'Toyota',]\n",
    "index = 0\n",
    "car = 'Nissan'\n",
    "\n",
    "cars.insert(index,car)\n",
    "mutated_list = (print(\"Updated list: \", cars))"
   ]
  },
  {
   "cell_type": "code",
   "execution_count": 32,
   "metadata": {},
   "outputs": [
    {
     "name": "stdout",
     "output_type": "stream",
     "text": [
      "1\n"
     ]
    }
   ],
   "source": [
    "cars = ['Mercedes', 'Porsche', 'BMW', 'Toyota',]\n",
    "index = cars.index('Porsche')\n",
    "print(index)"
   ]
  },
  {
   "cell_type": "code",
   "execution_count": 36,
   "metadata": {},
   "outputs": [
    {
     "name": "stdout",
     "output_type": "stream",
     "text": [
      "True\n"
     ]
    }
   ],
   "source": [
    "numbers = [1, 3, 4, 5.]\n",
    "\n",
    "length = len(numbers) == 4  \n",
    "print(length)  "
   ]
  },
  {
   "cell_type": "code",
   "execution_count": 40,
   "metadata": {},
   "outputs": [
    {
     "name": "stdout",
     "output_type": "stream",
     "text": [
      "Count of even numbers: 3\n"
     ]
    }
   ],
   "source": [
    "numbers = [23,34,56,87,23,89,98]\n",
    "even_nums = 0\n",
    "\n",
    "for num in numbers:\n",
    "    if num % 2 == 0:\n",
    "        even_nums += 1\n",
    "\n",
    "print(\"Count of even numbers:\", even_nums)\n"
   ]
  },
  {
   "cell_type": "code",
   "execution_count": 41,
   "metadata": {},
   "outputs": [
    {
     "name": "stdout",
     "output_type": "stream",
     "text": [
      "Count of odd numbers: 4\n"
     ]
    }
   ],
   "source": [
    "numbers = [23,34,56,87,23,89,98]\n",
    "odd_nums = 0\n",
    "\n",
    "for num in numbers:\n",
    "    if num % 2 == 1:\n",
    "        odd_nums += 1\n",
    "\n",
    "print(\"Count of odd numbers:\", odd_nums)\n"
   ]
  },
  {
   "cell_type": "code",
   "execution_count": 44,
   "metadata": {},
   "outputs": [
    {
     "name": "stdout",
     "output_type": "stream",
     "text": [
      "[23, 34, 45, 12, 56, 67]\n"
     ]
    }
   ],
   "source": [
    "list1 = [23,34,45,]\n",
    "list2 = [12,56,67,]\n",
    " \n",
    "list1.extend(list2)\n",
    "print(list1)"
   ]
  },
  {
   "cell_type": "code",
   "execution_count": 1,
   "metadata": {},
   "outputs": [
    {
     "ename": "NameError",
     "evalue": "name 'is_sublist' is not defined",
     "output_type": "error",
     "traceback": [
      "\u001b[1;31m---------------------------------------------------------------------------\u001b[0m",
      "\u001b[1;31mNameError\u001b[0m                                 Traceback (most recent call last)",
      "Cell \u001b[1;32mIn[1], line 3\u001b[0m\n\u001b[0;32m      1\u001b[0m lst \u001b[38;5;241m=\u001b[39m [\u001b[38;5;241m1\u001b[39m, \u001b[38;5;241m2\u001b[39m, \u001b[38;5;241m3\u001b[39m, \u001b[38;5;241m4\u001b[39m, \u001b[38;5;241m5\u001b[39m]\n\u001b[0;32m      2\u001b[0m sub \u001b[38;5;241m=\u001b[39m [\u001b[38;5;241m3\u001b[39m, \u001b[38;5;241m4\u001b[39m]\n\u001b[1;32m----> 3\u001b[0m \u001b[38;5;28mprint\u001b[39m(\u001b[43mis_sublist\u001b[49m(lst, sub)) \n",
      "\u001b[1;31mNameError\u001b[0m: name 'is_sublist' is not defined"
     ]
    }
   ],
   "source": []
  },
  {
   "cell_type": "code",
   "execution_count": null,
   "metadata": {},
   "outputs": [],
   "source": [
    "from collections import deque\n",
    "\n",
    "def is_sublist(lst, sub):\n",
    "    sub_deque = deque(sub)\n",
    "    for i in range(len(lst) - len(sub) + 1):\n",
    "        if deque(lst[i:i+len(sub)]) == sub_deque:\n",
    "            return True\n",
    "    return False\n",
    "\n",
    "# Example usage:\n",
    "lst = [1, 2, 3, 4, 5]\n",
    "sub = [3, 4]\n",
    "print(is_sublist(lst, sub))  # Output: True\n"
   ]
  },
  {
   "cell_type": "code",
   "execution_count": null,
   "metadata": {},
   "outputs": [],
   "source": []
  }
 ],
 "metadata": {
  "kernelspec": {
   "display_name": "Python 3",
   "language": "python",
   "name": "python3"
  },
  "language_info": {
   "codemirror_mode": {
    "name": "ipython",
    "version": 3
   },
   "file_extension": ".py",
   "mimetype": "text/x-python",
   "name": "python",
   "nbconvert_exporter": "python",
   "pygments_lexer": "ipython3",
   "version": "3.12.9"
  }
 },
 "nbformat": 4,
 "nbformat_minor": 2
}
